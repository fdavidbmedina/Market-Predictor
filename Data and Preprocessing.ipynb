{
 "cells": [
  {
   "cell_type": "code",
   "execution_count": 1,
   "id": "4038b75e-3677-4f9c-8ad5-658a92cf07c3",
   "metadata": {
    "tags": []
   },
   "outputs": [],
   "source": [
    "# import requests\n",
    "\n",
    "# url = \"https://api.pricempire.com/v3/items/prices/history?source=buff&days=7&app_id=730&currency=USD\"\n",
    "\n",
    "# payload = {}\n",
    "# headers = {}\n",
    "\n",
    "# response = requests.request(\"GET\", url, headers=headers, data=payload)\n",
    "\n",
    "# print(response.text)\n"
   ]
  },
  {
   "cell_type": "code",
   "execution_count": 2,
   "id": "08031403-7c07-49a9-aefc-4f563e3529b6",
   "metadata": {
    "tags": []
   },
   "outputs": [],
   "source": [
    "import numpy as np\n",
    "import pandas as pd\n",
    "import matplotlib.pyplot as plt\n",
    "import datetime\n",
    "import os"
   ]
  },
  {
   "cell_type": "code",
   "execution_count": 3,
   "id": "2e65b8d9-ed8c-444b-91c1-9c77fdce5ad1",
   "metadata": {
    "tags": []
   },
   "outputs": [
    {
     "name": "stdout",
     "output_type": "stream",
     "text": [
      "Item Name (w Wear Condition): \n",
      "'WeaponName''SkinName'\n",
      "Etc: 'Ak-47SlateMW'\n"
     ]
    },
    {
     "name": "stdin",
     "output_type": "stream",
     "text": [
      " Ak-47SlateMW\n"
     ]
    },
    {
     "name": "stdout",
     "output_type": "stream",
     "text": [
      "Input Data: \n"
     ]
    },
    {
     "name": "stdin",
     "output_type": "stream",
     "text": [
      " 1 hour ago\t S$6.17 0.094533078372\t736\t 2 hours ago\t S$6.76 0.123907715082\t362\t59%86%65%56% 3 hours ago\t S$6.14 0.091479212046\t206\t 4 hours ago\t S$11.19 0.110713548958\t2\t48%48%62%53% 4 hours ago\t S$6.99 0.111154116690\t120\t 5 hours ago\t S$7.07 0.093898348510\t49\t100%100%100%100%100% 8 hours ago\t S$6.04 0.146146297455\t554\t 8 hours ago\t S$6.31 0.088438041508\t839\t 9 hours ago\t S$6.56 0.128007069230\t376\t 10 hours ago\t S$8.54 0.096028052270\t381\t 10 hours ago\t S$11.61 0.108868636191\t57\t 10 hours ago\t S$6.08 0.106277681887\t219\t 11 hours ago\t S$11.35 0.106023952365\t824\t 13 hours ago\t S$5.60 0.130971550941\t661\t 14 hours ago\t S$6.15 0.127565756440\t282\t 17 hours ago\t S$6.15 0.082512356341\t839\t100%100%100%100%66% 18 hours ago\t S$10.14 0.077960453928\t593\t 20 hours ago\t S$10.54 0.096396341920\t254\t 22 hours ago\t S$6.02 0.139098778367\t75\t 23 hours ago\t S$5.41 0.128576591611\t120\t\n"
     ]
    },
    {
     "name": "stdout",
     "output_type": "stream",
     "text": [
      "                          Time    Price           Float Pattern ID\n",
      "0   2024-11-26 08:45:32.914776   S$6.17  0.094533078372        736\n",
      "1   2024-11-26 07:45:32.914776   S$6.76  0.123907715082        362\n",
      "2   2024-11-26 06:45:32.914776   S$6.14  0.091479212046        206\n",
      "3   2024-11-26 05:45:32.914776  S$11.19  0.110713548958          2\n",
      "4   2024-11-26 05:45:32.914776   S$6.99  0.111154116690        120\n",
      "5   2024-11-26 04:45:32.914776   S$7.07  0.093898348510         49\n",
      "6   2024-11-26 01:45:32.914776   S$6.04  0.146146297455        554\n",
      "7   2024-11-26 01:45:32.914776   S$6.31  0.088438041508        839\n",
      "8   2024-11-26 00:45:32.914776   S$6.56  0.128007069230        376\n",
      "9   2024-11-25 23:45:32.914776   S$8.54  0.096028052270        381\n",
      "10  2024-11-25 23:45:32.914776  S$11.61  0.108868636191         57\n",
      "11  2024-11-25 23:45:32.914776   S$6.08  0.106277681887        219\n",
      "12  2024-11-25 22:45:32.914776  S$11.35  0.106023952365        824\n",
      "13  2024-11-25 20:45:32.914776   S$5.60  0.130971550941        661\n",
      "14  2024-11-25 19:45:32.914776   S$6.15  0.127565756440        282\n",
      "15  2024-11-25 16:45:32.914776   S$6.15  0.082512356341        839\n",
      "16  2024-11-25 15:45:32.914776  S$10.14  0.077960453928        593\n",
      "17  2024-11-25 13:45:32.914776  S$10.54  0.096396341920        254\n",
      "18  2024-11-25 11:45:32.914776   S$6.02  0.139098778367         75\n",
      "19  2024-11-25 10:45:32.914776   S$5.41  0.128576591611        120\n",
      "20  2024-11-25 17:24:53.207665  S$10.09  0.077960453928        593\n",
      "21  2024-11-25 15:44:53.207665  S$10.50  0.096396341920        254\n",
      "22  2024-11-25 13:44:53.207665   S$5.99  0.139098778367         75\n",
      "23  2024-11-25 12:44:53.207665   S$5.39  0.128576591611        120\n",
      "24  2024-11-25 12:44:53.207665   S$6.15  0.126609086990        214\n",
      "25  2024-11-25 11:44:53.207665   S$5.87  0.107017681003         45\n",
      "26  2024-11-25 08:44:53.207665   S$6.17  0.095250025392        264\n",
      "27  2024-11-25 08:44:53.207665   S$6.06  0.131125360727        471\n",
      "28  2024-11-25 07:44:53.207665   S$5.91  0.113990947604        666\n",
      "29  2024-11-25 07:44:53.207665   S$6.06  0.092659242451        510\n",
      "30  2024-11-25 07:44:53.207665   S$6.18  0.090884573758        390\n",
      "31  2024-11-25 05:44:53.207665   S$5.99  0.141439288855        513\n",
      "32  2024-11-25 05:44:53.207665   S$6.04  0.144537493587        901\n",
      "33  2024-11-25 03:44:53.207665   S$5.94  0.132474094629        791\n",
      "34  2024-11-25 02:44:53.207665   S$6.45  0.141691744328         96\n",
      "35  2024-11-25 00:44:53.207665   S$5.52  0.086513638496        689\n",
      "36  2024-11-24 23:44:53.207665   S$5.79  0.147702783346         98\n",
      "37  2024-11-24 22:44:53.207665   S$6.04  0.138165637851        524\n",
      "38  2024-11-24 22:44:53.207665   S$6.25  0.099122196436        179\n",
      "39  2024-11-24 22:44:53.207665   S$5.59  0.102350912988        541\n",
      "                          Time    Price           Float Pattern ID\n",
      "0   2024-11-26 08:45:32.914776   S$6.17  0.094533078372        736\n",
      "1   2024-11-26 07:45:32.914776   S$6.76  0.123907715082        362\n",
      "2   2024-11-26 06:45:32.914776   S$6.14  0.091479212046        206\n",
      "3   2024-11-26 05:45:32.914776  S$11.19  0.110713548958          2\n",
      "4   2024-11-26 05:45:32.914776   S$6.99  0.111154116690        120\n",
      "5   2024-11-26 04:45:32.914776   S$7.07  0.093898348510         49\n",
      "6   2024-11-26 01:45:32.914776   S$6.04  0.146146297455        554\n",
      "7   2024-11-26 01:45:32.914776   S$6.31  0.088438041508        839\n",
      "8   2024-11-26 00:45:32.914776   S$6.56  0.128007069230        376\n",
      "9   2024-11-25 23:45:32.914776   S$8.54  0.096028052270        381\n",
      "10  2024-11-25 23:45:32.914776  S$11.61  0.108868636191         57\n",
      "11  2024-11-25 23:45:32.914776   S$6.08  0.106277681887        219\n",
      "12  2024-11-25 22:45:32.914776  S$11.35  0.106023952365        824\n",
      "13  2024-11-25 20:45:32.914776   S$5.60  0.130971550941        661\n",
      "14  2024-11-25 19:45:32.914776   S$6.15  0.127565756440        282\n",
      "15  2024-11-25 16:45:32.914776   S$6.15  0.082512356341        839\n",
      "16  2024-11-25 15:45:32.914776  S$10.14  0.077960453928        593\n",
      "17  2024-11-25 13:45:32.914776  S$10.54  0.096396341920        254\n",
      "18  2024-11-25 11:45:32.914776   S$6.02  0.139098778367         75\n",
      "19  2024-11-25 10:45:32.914776   S$5.41  0.128576591611        120\n",
      "24  2024-11-25 12:44:53.207665   S$6.15  0.126609086990        214\n",
      "25  2024-11-25 11:44:53.207665   S$5.87  0.107017681003         45\n",
      "26  2024-11-25 08:44:53.207665   S$6.17  0.095250025392        264\n",
      "27  2024-11-25 08:44:53.207665   S$6.06  0.131125360727        471\n",
      "28  2024-11-25 07:44:53.207665   S$5.91  0.113990947604        666\n",
      "29  2024-11-25 07:44:53.207665   S$6.06  0.092659242451        510\n",
      "30  2024-11-25 07:44:53.207665   S$6.18  0.090884573758        390\n",
      "31  2024-11-25 05:44:53.207665   S$5.99  0.141439288855        513\n",
      "32  2024-11-25 05:44:53.207665   S$6.04  0.144537493587        901\n",
      "33  2024-11-25 03:44:53.207665   S$5.94  0.132474094629        791\n",
      "34  2024-11-25 02:44:53.207665   S$6.45  0.141691744328         96\n",
      "35  2024-11-25 00:44:53.207665   S$5.52  0.086513638496        689\n",
      "36  2024-11-24 23:44:53.207665   S$5.79  0.147702783346         98\n",
      "37  2024-11-24 22:44:53.207665   S$6.04  0.138165637851        524\n",
      "38  2024-11-24 22:44:53.207665   S$6.25  0.099122196436        179\n",
      "39  2024-11-24 22:44:53.207665   S$5.59  0.102350912988        541\n",
      "Completed\n"
     ]
    }
   ],
   "source": [
    "print(\"Item Name (w Wear Condition): \")\n",
    "print(\"'WeaponName''SkinName'\")\n",
    "print(\"Etc: 'Ak-47SlateMW'\")\n",
    "itemName = input()\n",
    "timeNow = datetime.datetime.now()\n",
    "\n",
    "print(\"Input Data: \")\n",
    "x = input()\n",
    "x = x.split()\n",
    "# y = \n",
    "# for text in x:\n",
    "#     if text is not \"ago\":\n",
    "#         y.push(text)\n",
    "        \n",
    "        \n",
    "x = [i for i in x if i != \"ago\" and \"#\" not in i and \"%\" not in i and \"SP\" not in i and \"%\" not in i] \n",
    "\n",
    "for idx, text in enumerate(x):\n",
    "    if text == \"minute\" or text == \"minutes\":\n",
    "        x[idx-1] = timeNow + datetime.timedelta(minutes=-int(x[idx-1]))\n",
    "        del x[idx]\n",
    "    if text == \"hour\" or text == \"hours\":\n",
    "        x[idx-1] = timeNow + datetime.timedelta(hours=-int(x[idx-1]))\n",
    "        del x[idx]\n",
    "    if text == \"day\" or text == \"days\":\n",
    "        x[idx-1] = timeNow + datetime.timedelta(days=-int(x[idx-1]))\n",
    "        del x[idx]\n",
    "    if text == \"week\" or text == \"weeks\":\n",
    "        x[idx-1] = timeNow + datetime.timedelta(weeks=-int(x[idx-1]))\n",
    "        del x[idx]\n",
    "    if text == \"month\" or text == \"months\":\n",
    "        x[idx-1] = timeNow + datetime.timedelta(days=-(int(x[idx-1]))*30)\n",
    "        del x[idx]\n",
    "    if text == \"year\" or text == \"years\":\n",
    "        x[idx-1] = timeNow + datetime.timedelta(days=-(int(x[idx-1]))*365)\n",
    "        del x[idx]\n",
    "\n",
    "# print(len(x))\n",
    "# print(x)\n",
    "\n",
    "\n",
    "# for idx, data in enumerate(x):\n",
    "#     if \"S\" in str(data) or \"$\" in str(data):\n",
    "#         # print(data[2:])\n",
    "#         x[idx] = float(data[2:])\n",
    "#     else:\n",
    "#         x[idx] = float(data)\n",
    "    \n",
    "x = np.reshape(x, (int(len(x)/4), 4))\n",
    "\n",
    "priceDF = pd.DataFrame(x, columns = [\"Time\", \"Price\",\"Float\",\"Pattern ID\"])\n",
    "\n",
    "\n",
    "filecsv = \"./dataset/csv/\" + itemName + \".csv\"\n",
    "filexlsx = \"./dataset/xlsx/\" + itemName + \".xlsx\"\n",
    "\n",
    "if os.path.exists(filecsv):\n",
    "    oldData = pd.read_csv(filecsv, dtype=str)\n",
    "    combinedData = pd.concat([priceDF, oldData], ignore_index = True)\n",
    "    # print(combinedData)\n",
    "    combinedData = combinedData.drop_duplicates(subset=['Float', 'Pattern ID'])\n",
    "    # print(combinedData)\n",
    "    combinedData.to_csv(filecsv, sep=',', encoding='utf-8', index=False, header=True)\n",
    "    \n",
    "    print(\"Completed\")\n",
    "else:\n",
    "    priceDF.to_csv(filecsv, sep=',', encoding='utf-8', index=False, header=True, float_format=\"%.8f\")\n",
    "    print(\"Completed\")\n",
    "    \n",
    "# if os.path.exists(filexlsx):\n",
    "#     print(\"The file exists.\")\n",
    "# else:\n",
    "#     priceDF.to_excel(filexlsx)\n",
    "\n",
    "# priceDF.to_csv(filecsv, sep=',', encoding='utf-8', index=False, header=True)\n",
    "\n",
    "# priceDF.to_excel(filexlsx)"
   ]
  },
  {
   "cell_type": "code",
   "execution_count": null,
   "id": "db475463-9bc0-4ff8-9d2c-8782e2ec133b",
   "metadata": {},
   "outputs": [
    {
     "name": "stdout",
     "output_type": "stream",
     "text": [
      "What function do you want to use?\n",
      "1 - Search for filename\n",
      "2 - Print all filenames\n",
      "3 - End\n"
     ]
    },
    {
     "name": "stdin",
     "output_type": "stream",
     "text": [
      " 1\n"
     ]
    },
    {
     "name": "stdout",
     "output_type": "stream",
     "text": [
      "Search for item : \n"
     ]
    },
    {
     "name": "stdin",
     "output_type": "stream",
     "text": [
      " 2\n"
     ]
    },
    {
     "name": "stdout",
     "output_type": "stream",
     "text": [
      "[]\n",
      "Nothing found. Check your spelling if you are certain the data exists.\n",
      "Do you want to search again? (y/n)\n"
     ]
    },
    {
     "name": "stdin",
     "output_type": "stream",
     "text": [
      " 3\n"
     ]
    },
    {
     "name": "stdout",
     "output_type": "stream",
     "text": [
      "Input is not recognized. Only 'y' or 'n' is valid.\n",
      "Do you want to search again? (y/n)\n"
     ]
    },
    {
     "name": "stdin",
     "output_type": "stream",
     "text": [
      " n\n"
     ]
    },
    {
     "name": "stdout",
     "output_type": "stream",
     "text": [
      "What function do you want to use?\n",
      "1 - Search for filename\n",
      "2 - Print all filenames\n",
      "3 - End\n"
     ]
    }
   ],
   "source": [
    "path = \"./dataset/csv/\"\n",
    "files = os.listdir(path)\n",
    "del files[0]\n",
    "# print(files)\n",
    "isRunning = True\n",
    "while isRunning:\n",
    "    print(\"What function do you want to use?\")\n",
    "    print(\"1 - Search for filename\")\n",
    "    print(\"2 - Print all filenames\")\n",
    "    print(\"3 - End\")\n",
    "    funcChosen = input()\n",
    "    \n",
    "    if funcChosen == '1':\n",
    "        isSearching = True\n",
    "        while isSearching:\n",
    "            searchFiles = []\n",
    "            print(\"Search for item : \")\n",
    "            searchText = input()\n",
    "\n",
    "            if searchText == \"\":\n",
    "                searchText = \" \"\n",
    "\n",
    "            for i in files:\n",
    "                if searchText in i.lower():\n",
    "                    searchFiles.append(i)\n",
    "\n",
    "            print(searchFiles)\n",
    "\n",
    "            if len(searchFiles) == 0:\n",
    "                print(\"Nothing found. Check your spelling if you are certain the data exists.\")\n",
    "\n",
    "\n",
    "            isValid = False\n",
    "\n",
    "            while not isValid:\n",
    "                print(\"Do you want to search again? (y/n)\")\n",
    "\n",
    "                searchAgain = input()\n",
    "\n",
    "                if searchAgain == 'y' or searchAgain == 'Y':\n",
    "                    isValid = True\n",
    "                    isSearching = True\n",
    "\n",
    "                elif searchAgain == 'n' or searchAgain == 'N':\n",
    "                    isValid = True\n",
    "                    isSearching = False\n",
    "\n",
    "                else:\n",
    "                    print(\"Input is not recognized. Only 'y' or 'n' is valid.\")\n",
    "    elif funcChosen == '2':\n",
    "        print(files)\n",
    "    elif funcChosen == '3':\n",
    "        isRunning = False\n",
    "            \n",
    "            \n",
    "print(\"Thank you for running me\")\n",
    "        \n",
    "        \n",
    "    \n",
    "\n",
    "\n",
    "# readToPD = path + files[0]\n",
    "# pd.read_csv(readToPD, dtype=str)"
   ]
  },
  {
   "cell_type": "code",
   "execution_count": null,
   "id": "90a9268f-3bd5-489d-b1ed-6576d22b7205",
   "metadata": {},
   "outputs": [],
   "source": []
  }
 ],
 "metadata": {
  "kernelspec": {
   "display_name": "Python 3 (ipykernel)",
   "language": "python",
   "name": "python3"
  },
  "language_info": {
   "codemirror_mode": {
    "name": "ipython",
    "version": 3
   },
   "file_extension": ".py",
   "mimetype": "text/x-python",
   "name": "python",
   "nbconvert_exporter": "python",
   "pygments_lexer": "ipython3",
   "version": "3.7.16"
  }
 },
 "nbformat": 4,
 "nbformat_minor": 5
}
