{
 "cells": [
  {
   "cell_type": "markdown",
   "id": "3e22a207-c827-4728-9864-532fc904cc45",
   "metadata": {},
   "source": [
    "# DOCUMENTATION"
   ]
  },
  {
   "cell_type": "markdown",
   "id": "44f499d2-98ce-4d3a-8612-97ab02cd8cbb",
   "metadata": {},
   "source": [
    "## To Do List"
   ]
  },
  {
   "cell_type": "markdown",
   "id": "936bb7a7-5faa-437b-a356-260650bfa1d4",
   "metadata": {},
   "source": [
    "\n",
    "- Instead of storing time data by sold hours ago, calc estimated sold datetime (**COMPLETED**)\n",
    "\n",
    "- Check if existing data exists and combine the exisitng and new data and rewrite to excel (**COMPLETED**)\n",
    "\n",
    "- To avoid duplicates sold check PatternId and Float as it is almost statistically impossible for an item to have exact float and patternid (**COMPLETED**)\n",
    "> Having problems with checks as some 0 is being removed and shortened\n",
    ">> Fixed problem by not rounding but now it auto rounds to 5-6dp when being read\n",
    ">>> Fixed auto rounding by making datatype to be str so it takes whole float out\n",
    ">>>> **NEED TO CHECK WITH MULTIPLE DATA AND OVER THE DAYS TO ENSURE PROPER DATA STORAGE**\n",
    "\n",
    "- Create a function or area where I can search for file name to easily know whether I have existing data of the item\n",
    "\n",
    "- Remove extreme outliers from data before training model to improve accuracy\n",
    "\n",
    "\n",
    "- Maybe leave extremely cheap or low outliers as it is understandable people want to sell immediately to get money fast but remove extreme due to rare pattern or sticker\n",
    "\n",
    "\n",
    "- Create and train to predict price and see if an item would be a good deal or no\n",
    "\n",
    "\n",
    "- Maybe create automation using UIPATH to automate taking the data? Create a list of items I want to follow and choose whether to run daily/weekly etc\n",
    "> Edit: Researched more on how to do this, need to learn UIPATH Orchastrator"
   ]
  },
  {
   "cell_type": "markdown",
   "id": "423071df-cc94-4e6e-83fa-13b2809c93e5",
   "metadata": {},
   "source": [
    "## Found Problems"
   ]
  },
  {
   "cell_type": "markdown",
   "id": "282ae0b9-347e-416a-a768-322a8afa1cb4",
   "metadata": {
    "tags": []
   },
   "source": [
    "- NIL"
   ]
  }
 ],
 "metadata": {
  "kernelspec": {
   "display_name": "Python 3 (ipykernel)",
   "language": "python",
   "name": "python3"
  },
  "language_info": {
   "codemirror_mode": {
    "name": "ipython",
    "version": 3
   },
   "file_extension": ".py",
   "mimetype": "text/x-python",
   "name": "python",
   "nbconvert_exporter": "python",
   "pygments_lexer": "ipython3",
   "version": "3.7.16"
  }
 },
 "nbformat": 4,
 "nbformat_minor": 5
}
